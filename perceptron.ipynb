{
  "nbformat": 4,
  "nbformat_minor": 0,
  "metadata": {
    "colab": {
      "provenance": [],
      "authorship_tag": "ABX9TyNX2QhKXXJvGFI9fe7LaQDs",
      "include_colab_link": true
    },
    "kernelspec": {
      "name": "python3",
      "display_name": "Python 3"
    },
    "language_info": {
      "name": "python"
    }
  },
  "cells": [
    {
      "cell_type": "markdown",
      "metadata": {
        "id": "view-in-github",
        "colab_type": "text"
      },
      "source": [
        "<a href=\"https://colab.research.google.com/github/josejailson/perceptron/blob/main/perceptron.ipynb\" target=\"_parent\"><img src=\"https://colab.research.google.com/assets/colab-badge.svg\" alt=\"Open In Colab\"/></a>"
      ]
    },
    {
      "cell_type": "code",
      "execution_count": null,
      "metadata": {
        "colab": {
          "base_uri": "https://localhost:8080/"
        },
        "id": "SZHCU0g9x3WB",
        "outputId": "75f202e0-d8b1-4e74-b2e8-3ae2b9c35a32"
      },
      "outputs": [
        {
          "output_type": "stream",
          "name": "stdout",
          "text": [
            "1\n"
          ]
        }
      ],
      "source": [
        "import numpy as np\n",
        "\n",
        "class Perceptron:\n",
        "    def __init__(self, num_inputs):\n",
        "        self.weights = np.zeros(num_inputs)\n",
        "        self.bias = 0\n",
        "\n",
        "    def predict(self, inputs):\n",
        "        activation = np.dot(inputs, self.weights) + self.bias\n",
        "        return 1 if activation >= 0 else 0\n",
        "\n",
        "    def train(self, training_inputs, labels, num_epochs):\n",
        "        for _ in range(num_epochs):\n",
        "            for inputs, label in zip(training_inputs, labels):\n",
        "                prediction = self.predict(inputs)\n",
        "                self.weights += (label - prediction) * inputs\n",
        "                self.bias += label - prediction\n",
        "\n",
        "# Exemplo de uso\n",
        "training_inputs = np.array([[0, 0, 1], [1, 1, 1], [1, 0, 1], [0, 1, 1]])\n",
        "labels = np.array([0, 1, 1, 0])\n",
        "\n",
        "perceptron = Perceptron(num_inputs=3)\n",
        "perceptron.train(training_inputs, labels, num_epochs=10)\n",
        "\n",
        "inputs = np.array([1, 0, 0])\n",
        "print(perceptron.predict(inputs))  # Saída esperada: 1\n"
      ]
    },
    {
      "cell_type": "code",
      "source": [
        "import numpy as np\n",
        "from sklearn.datasets import load_iris\n",
        "from sklearn.linear_model import Perceptron\n",
        "\n",
        "\n",
        "iris = load_iris(as_frame=True)\n",
        "X = iris.data[[\"petal length (cm)\", \"petal width (cm)\"]].values\n",
        "y = (iris.target == 0)\n",
        "\n",
        "per_clf = Perceptron(random_state=42)\n",
        "per_clf.fit(X, y)\n",
        "\n",
        "X_new = [[2, 0.5], [3, 1]]\n",
        "y_pred = per_clf.predict(X_new)"
      ],
      "metadata": {
        "id": "BSezCXCE0ez2"
      },
      "execution_count": null,
      "outputs": []
    }
  ]
}